{
 "cells": [
  {
   "cell_type": "markdown",
   "metadata": {},
   "source": [
    "<div class=\"alert alert-block alert-info\" style=\"margin-top: 20px\">\n",
    "    <a href=\"https://cocl.us/PY0101EN_edx_add_top?utm_medium=Exinfluencer&utm_source=Exinfluencer&utm_content=000026UJ&utm_term=10006555&utm_id=NA-SkillsNetwork-Channel-SkillsNetworkCoursesIBMPY0101ESedX19802589-2021-01-01\">\n",
    "         <img src=\"https://s3-api.us-geo.objectstorage.softlayer.net/cf-courses-data/CognitiveClass/PY0101EN/Ad/TopAd.png\" width=\"750\" align=\"center\">\n",
    "    </a>\n",
    "</div>\n"
   ]
  },
  {
   "cell_type": "markdown",
   "metadata": {},
   "source": [
    "<a href=\"https://cognitiveclass.ai/?utm_medium=Exinfluencer&utm_source=Exinfluencer&utm_content=000026UJ&utm_term=10006555&utm_id=NA-SkillsNetwork-Channel-SkillsNetworkCoursesIBMPY0101ESedX19802589-2021-01-01\">\n",
    "    <img src=\"https://s3-api.us-geo.objectstorage.softlayer.net/cf-courses-data/CognitiveClass/PY0101EN/Ad/CCLog.png\" width=\"200\" align=\"center\">\n",
    "</a>\n"
   ]
  },
  {
   "cell_type": "markdown",
   "metadata": {},
   "source": [
    "<h1>Clases y Objetos en Python</h1>\n"
   ]
  },
  {
   "cell_type": "markdown",
   "metadata": {},
   "source": [
    "<p>\n",
    "    <strong>¡Bienvenido!</strong> \n",
    "    Los objetos en programación son parecidos a los de la vida real. Al igual que los reales, hay distintos tipos de objetos. En este cuaderno, crearemos dos clases llamadas Circulo y Rectángulo. Al final, tendrás una idea mas clara acerca de:\n",
    "    <ul>\n",
    "        <li>Qué es una clase</li>\n",
    "        <li>Qué es un atributo</li>\n",
    "        <li>Qué es un método</li>\n",
    "    </ul>\n",
    "\n",
    "No te preocupes si no lo entiendes la primera vez ya que la terminología es confusa. No olvides hacer los exámenes de este cuaderno.\n",
    "\n",
    "</p>\n"
   ]
  },
  {
   "cell_type": "markdown",
   "metadata": {},
   "source": [
    "<h2>Tabla de Contenido</h2>\n",
    "<div class=\"alert alert-block alert-info\" style=\"margin-top: 20px\">\n",
    "    <ul>\n",
    "        <li>\n",
    "            <a href=\"https://#intro\">Introducción a las Clases y Objetos</a>\n",
    "            <ul>\n",
    "                <li><a href=\"https://create/?utm_medium=Exinfluencer&utm_source=Exinfluencer&utm_content=000026UJ&utm_term=10006555&utm_id=NA-SkillsNetwork-Channel-SkillsNetworkCoursesIBMPY0101ESedX19802589-2021-01-01\">Crear una Clase</a></li>\n",
    "                <li><a href=\"https://instance/?utm_medium=Exinfluencer&utm_source=Exinfluencer&utm_content=000026UJ&utm_term=10006555&utm_id=NA-SkillsNetwork-Channel-SkillsNetworkCoursesIBMPY0101ESedX19802589-2021-01-01\">Instancias de la Clase: Objetos y Atributos</a></li>\n",
    "                <li><a href=\"https://method/?utm_medium=Exinfluencer&utm_source=Exinfluencer&utm_content=000026UJ&utm_term=10006555&utm_id=NA-SkillsNetwork-Channel-SkillsNetworkCoursesIBMPY0101ESedX19802589-2021-01-01\">Métodos</a></li>\n",
    "            </ul>\n",
    "        </li>\n",
    "        <li><a href=\"https://creating/?utm_medium=Exinfluencer&utm_source=Exinfluencer&utm_content=000026UJ&utm_term=10006555&utm_id=NA-SkillsNetwork-Channel-SkillsNetworkCoursesIBMPY0101ESedX19802589-2021-01-01\">Crear una Clase</a></li>\n",
    "        <li><a href=\"https://circle/?utm_medium=Exinfluencer&utm_source=Exinfluencer&utm_content=000026UJ&utm_term=10006555&utm_id=NA-SkillsNetwork-Channel-SkillsNetworkCoursesIBMPY0101ESedX19802589-2021-01-01\">Crear una instancia de la clase Circulo</a></li>\n",
    "        <li><a href=\"https://rect/?utm_medium=Exinfluencer&utm_source=Exinfluencer&utm_content=000026UJ&utm_term=10006555&utm_id=NA-SkillsNetwork-Channel-SkillsNetworkCoursesIBMPY0101ESedX19802589-2021-01-01\">La Clase Rectángulo</a></li>\n",
    "    </ul>\n",
    "    <p>\n",
    "        Tiempo Estimado: <strong>40 min</strong>\n",
    "    </p>\n",
    "</div>\n",
    "\n",
    "<hr>\n"
   ]
  },
  {
   "cell_type": "markdown",
   "metadata": {},
   "source": [
    "<h2 id=\"intro\">Introducción a las Clases y Objetos</h2>\n"
   ]
  },
  {
   "cell_type": "markdown",
   "metadata": {},
   "source": [
    "<h3>Crear una Clase</h3>\n"
   ]
  },
  {
   "cell_type": "markdown",
   "metadata": {},
   "source": [
    "Lo primero al crear una clase es darle un nombre: En este cuaderno, crearemos dos clases, Circulo y Rectángulo. Tenemos que determinar los datos necesarios para hacer esa clase, a esos datos le llamamos atributos. Puedes pensar en este paso como la creación de un plano que después usaremos para construir objetos. En la imagen 1 podemos ver dos clases, circulo (Circle) y rectángulo (Rectangle). Cada una posee atributos, en forma de variables. La clase circulo tiene los atributos: radius y color, la clase rectángulo posee los atributos height y width (altura y ancho en inglés respectivamente). Usemos algunos ejemplos visuales de estas figuras antes de ver el código, esto ayudara a que te familiarices con el vocabulario.\n"
   ]
  },
  {
   "cell_type": "markdown",
   "metadata": {},
   "source": [
    "<img src=\"https://s3-api.us-geo.objectstorage.softlayer.net/cf-courses-data/CognitiveClass/PY0101EN/Chapter%203/Images/ClassesClass.png\" width=\"500\" />\n"
   ]
  },
  {
   "cell_type": "markdown",
   "metadata": {},
   "source": [
    "<i> Figura 1: Clases circle y rectangle, cada una tiene sus atributos. La clase circle tiene los atributos radius y colour, la clase rectángulo posee los atributos height y width (altura y ancho en inglés respectivamente).</i>\n"
   ]
  },
  {
   "cell_type": "markdown",
   "metadata": {},
   "source": [
    "<h3 id=\"instance\">Instancias de la Clase: Objetos y Atributos</h3>\n"
   ]
  },
  {
   "cell_type": "markdown",
   "metadata": {},
   "source": [
    "Una instancia de objeto es producto de una clase, en la figura 2 podemos ver tres instancias de la clase circle. Le damos a cada objeto el nombre: red circle (círculo rojo), yellow circle (círculo amarillo) y green circle (círculo verde). Cada uno tiene distintos atributos, enfoquémonos por ahora en el atributo colour (color) de cada objeto.\n"
   ]
  },
  {
   "cell_type": "markdown",
   "metadata": {},
   "source": [
    "<img src=\"https://s3-api.us-geo.objectstorage.softlayer.net/cf-courses-data/CognitiveClass/PY0101EN/Chapter%203/Images/ClassesObj.png\" width=\"500\" />\n"
   ]
  },
  {
   "cell_type": "markdown",
   "metadata": {},
   "source": [
    "<i>Figura 2: Tres instancias de la clase circle o, dicho de otra forma, tres objetos de tipo circle.</i>\n"
   ]
  },
  {
   "cell_type": "markdown",
   "metadata": {},
   "source": [
    "El atributo colour para el círculo rojo es el color rojo, para el círculo verde será el verde y amarillo para el círculo amarillo.\n"
   ]
  },
  {
   "cell_type": "markdown",
   "metadata": {},
   "source": [
    "<h3 id=\"method\">Métodos</h3>\n"
   ]
  },
  {
   "cell_type": "markdown",
   "metadata": {},
   "source": [
    "Los métodos permiten cambiar o interactuar con el objeto; los métodos son funciones que interactúan con los objetos. Por ejemplo, digamos que queremos incrementar el radio (radius) de un círculo. Podemos crear un método llamado **add_radius(r)** que incremenete el radio por **r**. Esto se muestra en la figura 3, donde después de usar el método al objeto “orange circle”, el radio aumenta. El “punto” significa que el método será aplica a ese objeto, que en esencia es ejecutar una función sobre la información del objeto.\n"
   ]
  },
  {
   "cell_type": "markdown",
   "metadata": {},
   "source": [
    "<img src=\"https://s3-api.us-geo.objectstorage.softlayer.net/cf-courses-data/CognitiveClass/PY0101EN/Chapter%203/Images/ClassesMethod.png\" width=\"500\" /> \n"
   ]
  },
  {
   "cell_type": "markdown",
   "metadata": {},
   "source": [
    "<i>Figura 3: Aplicar el método “add_radius” al objeto “orange circle”.</i>\n"
   ]
  },
  {
   "cell_type": "markdown",
   "metadata": {},
   "source": [
    "<hr>\n"
   ]
  },
  {
   "cell_type": "markdown",
   "metadata": {},
   "source": [
    "<h2 id=\"creating\">Crear una Clase</h2>\n"
   ]
  },
  {
   "cell_type": "markdown",
   "metadata": {},
   "source": [
    "Creemos ahora una clase circle, pero primero, importemos una librería para dibujar objetos:\n"
   ]
  },
  {
   "cell_type": "code",
   "execution_count": 12,
   "metadata": {
    "tags": []
   },
   "outputs": [],
   "source": [
    "# Importar la librería\n",
    "\n",
    "import matplotlib.pyplot as plt\n",
    "%matplotlib inline  "
   ]
  },
  {
   "cell_type": "markdown",
   "metadata": {},
   "source": [
    "El primer paso en la creación de nuestra clase es usar la palabra reservada <code>class</code>, y después el nombre de la clase como se muestra en la figura 4. En este curso la clase padre será siempre objeto:\n"
   ]
  },
  {
   "cell_type": "markdown",
   "metadata": {},
   "source": [
    "<img src=\"https://s3-api.us-geo.objectstorage.softlayer.net/cf-courses-data/CognitiveClass/PY0101EN/Chapter%203/Images/ClassesDefine.png\" width=\"400\" />\n"
   ]
  },
  {
   "cell_type": "markdown",
   "metadata": {},
   "source": [
    "<i>Figura 4: Tres instancias de la clase circle o, dicho de otra forma, tres objetos de tipo circle.</i>\n"
   ]
  },
  {
   "cell_type": "markdown",
   "metadata": {},
   "source": [
    "El siguiente paso es el método especial llamado constructor <code>\\__init\\_\\_</code>, que es usado para inicializar el objeto. La entrada son datos para los atributos. El termino <code>self</code> contiene todos los atributos del grupo. Por ejemplo <code>self.color</code> asigna el valor del atributo color y <code>self.radius</code> valor del radio. También tenemos el método <code>add_radius()</code> con el parámetro <code>r</code>, el método suma el valor de <code>r</code> al atributo radius. Para acceder al valor de radius usamos la sintaxis <code>self.radius</code>. El etiquetado se resume en la Figura 5.\n"
   ]
  },
  {
   "cell_type": "markdown",
   "metadata": {},
   "source": [
    "<img src=\"https://s3-api.us-geo.objectstorage.softlayer.net/cf-courses-data/CognitiveClass/PY0101EN/Chapter%203/Images/ClassesCircle.png\" width=\"600\" />\n"
   ]
  },
  {
   "cell_type": "markdown",
   "metadata": {},
   "source": [
    "<i>Figura 5: Sintaxis del objeto circle.</i>\n"
   ]
  },
  {
   "cell_type": "markdown",
   "metadata": {},
   "source": [
    "El objeto actual se muestra mas adelante. Incluimos el método <code>drawCircle</code> para mostrar la imagen de un circulo. Asignamos el valor de radius en 3 y el color en azul (blue):\n"
   ]
  },
  {
   "cell_type": "code",
   "execution_count": 1,
   "metadata": {},
   "outputs": [],
   "source": [
    "# Crear la clase Circle\n",
    "\n",
    "class Circle(object):\n",
    "    \n",
    "    # Constructor\n",
    "    def __init__(self, radius=3, color='blue'):\n",
    "        self.radius = radius\n",
    "        self.color = color \n",
    "    \n",
    "    # Method\n",
    "    def add_radius(self, r):\n",
    "        self.radius = self.radius + r\n",
    "        return(self.radius)\n",
    "    \n",
    "    # Method\n",
    "    def drawCircle(self):\n",
    "        plt.gca().add_patch(plt.Circle((0, 0), radius=self.radius, fc=self.color))\n",
    "        plt.axis('scaled')\n",
    "        plt.show()  "
   ]
  },
  {
   "cell_type": "markdown",
   "metadata": {},
   "source": [
    "<hr>\n"
   ]
  },
  {
   "cell_type": "markdown",
   "metadata": {},
   "source": [
    "<h2 id=\"circle\">Crear una instancia de la clase Circulo</h2>\n"
   ]
  },
  {
   "cell_type": "markdown",
   "metadata": {},
   "source": [
    "Vamos a crear el objeto <code>RedCircle</code> de tipo Circle para hacer lo siguiente:\n"
   ]
  },
  {
   "cell_type": "code",
   "execution_count": 4,
   "metadata": {},
   "outputs": [
    {
     "name": "stdout",
     "output_type": "stream",
     "text": [
      "<__main__.Circle object at 0x7f93685b0e10>\n"
     ]
    }
   ],
   "source": [
    "# Crear un objeto RedCircle\n",
    "\n",
    "RedCircle = Circle(10, 'red')\n",
    "print(RedCircle)"
   ]
  },
  {
   "cell_type": "markdown",
   "metadata": {},
   "source": [
    "Podemos usar el comando <code>dir</code> para obtener una lista de los métodos del objeto. Muchos de ellos son métodos por defecto de Python.\n"
   ]
  },
  {
   "cell_type": "code",
   "execution_count": 5,
   "metadata": {},
   "outputs": [
    {
     "data": {
      "text/plain": [
       "['__class__',\n",
       " '__delattr__',\n",
       " '__dict__',\n",
       " '__dir__',\n",
       " '__doc__',\n",
       " '__eq__',\n",
       " '__format__',\n",
       " '__ge__',\n",
       " '__getattribute__',\n",
       " '__gt__',\n",
       " '__hash__',\n",
       " '__init__',\n",
       " '__init_subclass__',\n",
       " '__le__',\n",
       " '__lt__',\n",
       " '__module__',\n",
       " '__ne__',\n",
       " '__new__',\n",
       " '__reduce__',\n",
       " '__reduce_ex__',\n",
       " '__repr__',\n",
       " '__setattr__',\n",
       " '__sizeof__',\n",
       " '__str__',\n",
       " '__subclasshook__',\n",
       " '__weakref__',\n",
       " 'add_radius',\n",
       " 'color',\n",
       " 'drawCircle',\n",
       " 'radius']"
      ]
     },
     "execution_count": 5,
     "metadata": {},
     "output_type": "execute_result"
    }
   ],
   "source": [
    "# Obtener los métodos que pueden usarse en el objeto RedCircle\n",
    "\n",
    "dir(RedCircle)"
   ]
  },
  {
   "cell_type": "markdown",
   "metadata": {},
   "source": [
    "Veamos el valor de los atributos del objeto:\n"
   ]
  },
  {
   "cell_type": "code",
   "execution_count": 7,
   "metadata": {},
   "outputs": [
    {
     "data": {
      "text/plain": [
       "10"
      ]
     },
     "execution_count": 7,
     "metadata": {},
     "output_type": "execute_result"
    }
   ],
   "source": [
    "# Imprime el atributo radius del objeto\n",
    "\n",
    "RedCircle.radius"
   ]
  },
  {
   "cell_type": "code",
   "execution_count": 8,
   "metadata": {},
   "outputs": [
    {
     "data": {
      "text/plain": [
       "'red'"
      ]
     },
     "execution_count": 8,
     "metadata": {},
     "output_type": "execute_result"
    }
   ],
   "source": [
    "# Imprime el atributo color del objeto\n",
    "\n",
    "RedCircle.color"
   ]
  },
  {
   "cell_type": "markdown",
   "metadata": {},
   "source": [
    "Podemos cambiar el valor de los atributos del objeto:\n"
   ]
  },
  {
   "cell_type": "code",
   "execution_count": 10,
   "metadata": {},
   "outputs": [
    {
     "data": {
      "text/plain": [
       "'yellow'"
      ]
     },
     "execution_count": 10,
     "metadata": {},
     "output_type": "execute_result"
    }
   ],
   "source": [
    "# Asigna un valor al atributo radius\n",
    "\n",
    "RedCircle.radius = 1\n",
    "RedCircle.radius\n",
    "RedCircle.color = \"yellow\"\n",
    "RedCircle.color"
   ]
  },
  {
   "cell_type": "markdown",
   "metadata": {},
   "source": [
    "Dibujamos el objeto usando el método <code>drawCircle()</code>:\n"
   ]
  },
  {
   "cell_type": "code",
   "execution_count": 13,
   "metadata": {},
   "outputs": [
    {
     "data": {
      "image/png": "[encoded data removed]",
      "text/plain": [
       "<Figure size 432x288 with 1 Axes>"
      ]
     },
     "metadata": {
      "needs_background": "light"
     },
     "output_type": "display_data"
    }
   ],
   "source": [
    "# Llamada al método drawCircledata:image/png;base64,iVBORw0KGgoAAAANSUhEUgAAAQ0AAAD4CAYAAAD2OrMWAAAAOXRFWHRTb2Z0d2FyZQBNYXRwbG90bGliIHZlcnNpb24zLjQuMywgaHR0cHM6Ly9tYXRwbG90bGliLm9yZy/MnkTPAAAACXBIWXMAAAsTAAALEwEAmpwYAAAZCElEQVR4nO3debgcZZXH8e9JSFAhgpDIDgEFBHkA4RJBlEUEgREQGRFkQH3EAANuw6i4IYwKDuLooAIGZAAXGFzAsG8OiwoMCWaVHVFDIkHAhMURAmf+eOuS5qb73q5by1vL7/M8/XTfrqVP9e0+/VbVW+8xd0dEpF9jYgcgIvWipCEiqShpiEgqShoikoqShoikslLsAEZj4sSJPnny5NhhiDTWzJkz/+Luk7pNq2XSmDx5MjNmzIgdhkhjmdkfek3T7omIpKKkISKpKGmISCpKGiKSipKGiKSSS9Iws/PMbLGZzesx3czsDDN7wMzmmNl2HdP2NrN7k2kn5BGPiBQnr5bG+cDew0zfB9g0uU0FzgIws7HAd5PpWwKHmtmWOcUkIgXIJWm4+y3AE8PMcgBwoQe3A6ub2TrAFOABd3/I3Z8DLk7mFZGKKqtz13rAnzr+XpA81+35N3dbgZlNJbRS2HDDDYuJUlJYCiwCFg65XwQ8AywbchtD+LiNS+5XBiYB6wLrDLmfBFh5myKplJU0un0CfJjnV3zSfRowDWBgYEAjB5XiOWAuMDO53cPy5PBMga87DliLkEQ2BrYDtk9urynwdaUfZSWNBcAGHX+vT/j0je/xvJRuaIKYAcxLni/b84SPzALgTuCSjmkbE5LHAEokcZSVNKYDx5nZxYTdjyXuvsjMHgM2NbONgUeAQ4D3lxSTMAu4HLgS+C1xEkRav09uP+14bhNgT2B/YA/Cro8UJZekYWYXAbsBE81sAfAlQhsTdz8buArYF3gAeBb4UDJtmZkdB1wLjAXOc/f5ecQk3TwH3ETI4ZcDf4waTX4eAr6X3FZleQJ5FzAxYlzNZHUcWHhgYMB1lWu/niDk7OmE3Lw0bjilGgPsSEgg+wNbxA2nRsxsprsPdJumHqGNdTPwPmBt4HDgJ7QrYQC8CPwGOIHQDWgA+D7wt5hB1Z6SRqMsBb4DbEXYW7yEcFBRgpnAkYQz/Z8E7osbTk0paTTCHOBowpfho4AOCw3vSeBbwBsIxz8uBV6IGVCtKGnU1ouElsRbgW0IBwGfjhpR/ThwA/AeYDLwZUJCkeEoadTSlcCbCMcsfh05lqZYAJxIOH17KuEkn3SjpFErtwG7EE4lzokcS1P9Ffgc8HpC621Z1GiqSEmjFuYTruN7C3Br5FjaYhHhONGWhN3A+nVNKIqSRqX9kdAPbmtCPwsp3/2E3cAdCMc/REmjkp4HTgY2IwxV8mLUaATC6do9CR2b/zTCvM2mpFE5swi/aicBf48aiXRzNaEfzLmxA4lGSaMynickiinA7LihyAiWAh8hDFbXvlaHkkYlzCYki5NRD846uZbQ6vh+7EBKpaQR1eCxix0IuyVSP0sJXdPb0+pQ0ojmbkLr4iTUumiCwVbHhbEDKZySRhRXEMYimhU5DsnXUuADwMdo8rUsShqlO5XQUeup2IFIYb5N2F0ZboD++sqrWNKwBY/M7FNmNiu5zTOzF8xsjWTaw2Y2N5nW4JF1/gYcSuiirH4XzXcDoTX5u9iB5C5z0uin4JG7f93dt3X3bYHPAje7e2ca3j2Z3nWkoPpbALyNUNZF2uMBwshhV8QOJFd5tDTSFjw6FLgoh9etidsIZ0dmxg5EoniK8HU4NXYguckjafQqhLQCM3sVYWfvZx1PO3Cdmc1MCiJ1ZWZTzWyGmc147LHHcgi7DBcAuwN/jh2IRPUiYbf0/cD/RY4luzySRt8Fj4D9gF8P2TXZ2d23I+zeHGtmu3Rb0N2nufuAuw9MmjQpW8Sl+BbwQdQVXJa7iPAVqPdYHXkkjV6FkLo5hCG7Ju6+MLlfTBh3bUoOMUV2KmEMSpGhbiD8Ptb37FkeSeNOkoJHZjaekBhWuI7bzFYDdgV+0fHcKmY2YfAxsBehrFeNnUhoior0cgvho74kdiCjkrlYUq+CR2Z2dDL97GTWA4Hr3L2zCOhawKVmNhjLj939mqwxxfMF4Kuxg5BauB14B6HlsVrkWNJRsaTcfAX4YuwgpHZ2Aq4jVIarDhVLKtzpKGHI6NxGGPO1PgWclDQyOxP4VOwgpNZuJvTlqEMBbiWNjK4hXJwkktX1wLGxg+iLksao3Us4UdTcqxmlbOcSLnarNiWNUfkroQp5PU+ZSZX9C3Bj7CCGpaSR2ouEy2dUPFiKsAw4GHgwdiA9KWmk9mnCsQyRojxBlcdcUdJI5ULgG7GDkFaYDxxGFcdeUdLo2x1Az4twRQpwOVXs/6Ok0ZcngYPQFatSvlMIyaM6lDT68nHgkdhBSGsdRfjhqgYljRFdDvwgdhDSaouoUidCJY1hPUnI8iKx/ZAuI05EoaQxrI8TsrxIFRxNFXZTlDR60m6JVE01dlOUNLrSbolUVfzdlLKKJe1mZks6Ciad2O+ycXwM7ZZIdcU9m1JKsaTErYMFk9z931IuW6LrCdlcpKr+TMwxXGIUS8pr2QI44doSkao7H7g7yiuXWSxpJzObbWZXm9kbUy5bUrGki1Eld6mHF4g16n1ZxZLuAjZy920Io4xclmLZ8GThxZKep4r9/EV6u4wwqnm5SimW5O5L3f3p5PFVwDgzm9jPsuU5hyqPYSDSXfnnDkoplmRma1tS3MTMpiSv+3g/y5bjGeDL5b+sSGY3A1eX+oplFUv6R+AYM1tGGKv9EA8FV7oumzWm9L6FijRLfX2OUFe9295+/lQsiceBTYClOa1PJIYfEarS50PFkoZ1KkoYUn9fJBzML17Lk8ZTwPdiByGSg4eAn5fySi1PGhcCT8cOQiQnZ5byKi1PGmfFDkAkR7cQBiQuVouTxs2U8QaLlKv41kaLk0Y5TTmRcv2Aone5W5o0/gxcGjsIkQI8RdGDR7U0aZxDWaenRMpX7LG6FiaNF4BpsYMQKdBc4NbC1t7CpHEF4To5kSYrrrXRwqRxSewAREownaIqArYsaSyj7CsCReJ4BvhlIWtuWdK4lSrUjRApRzGjTLQsaVSjQpVIOYopHK2kIdJYjwAzc19rWXVPDjOzOcntN2a2Tce0h81sblIPJa9BMrqYT7gSUKRN8v+hLKvuye+BXd19a8K4ekM7Suye1EPpOuhHPtTKkDaqYNKgj9ol7v4bdx88Ank7YQDhkhWzfydSbbN4eZWQ7MqsezLow7z8vKcD15nZTDOb2muhbHVPFgN3pFxGpCny/cEsq+5JmNFsd0LS+EzH0zu7+3aE3ZtjzWyXbstmq3tyC/BiymVEmuKmXNdWSt0TADPbGjgXOMDdHx983t0XJveLCZeeTskhpiHyP4IsUh/5fv7LqnuyIWEAw8Pd/b6O51cxswmDj4G9gHk5xDSEkoa02UPk2amxrLonJwJrAmcmNZOWJWdK1gIuTZ5bCfixu1+TNaYVKWlI290F7JHLmjInDXip1OJVQ547u+PxkcCRXZZ7CNhm6PP5ehh4otiXEKm8meSVNFrQI7TA/mIitZHf96AFSUO7JiJ5fg+UNERaIb+DoUoaIq1xVy5raXjSWIAOgooMmpXLWhqeNPLtcy9Sb/mMjdvwpLFCx1SRFsvn+9DwpLEodgAiFZLP96HhSUMtDZHl1NLog1oaIsuppdEHtTRElnsWWJJ5LQ1PGmppiLxc9u9Ew5OGWhoiL5f9O9HgpPEc8PiIc4m0i1oaw1AlNZEVZe8h3eCk8XzsAEQqKPv3oqxiSWZmZyTT55jZdv0uO3rL8luVSGNk/16UVSxpH2DT5DYVOCvFsqOklobIiqrR0hixWFLy94Ue3A6sbmbr9LnsKKmlIbKiCrQ06K9YUq95+i60lK1YkogEXUsSpVJWsaRe8/RdaCl9saRcxkwWaZhxmdeQxzern2JJveYZ38eyo6SkIbKi7N+LUoolJX8fkZxF2RFY4u6L+lx2lJQ0RFaU/XtRVrGkq4B9gQcIV818aLhls8YUZG+GiTRPNXZP+imW5MCx/S6bj9XyX6VI7WX/XjS4R+grUeIQGWqdzGtocNIAWDd2ACIVk/070fCkkT2rijSLWhojUEtDZLmVgTUzr6XhSUMtDZHl1s5lLQ1PGmppiCyXz/eh4UlDLQ2R5fL5PjQ8aailIbKcWhp96HrBrEhLKWn0YTKwauwgRCpi61zW0vCkMQZ4U+wgRCpi+1zW0vCkAXm9USL1ti465do3JQ2RPL8HShoiraCkkcLm6GCoiJJGCjoYKgIDua0pU9IwszXM7Hozuz+5f02XeTYws/8xs7vNbL6Zfbxj2klm9oiZzUpu+2aJpzftokib5XcQFLK3NE4AbnT3TYEbk7+HWgYc7+5bADsCxw4piPRNd982uRUwghcoaUi75fv5z5o0DgAuSB5fALx76Azuvsjd70oePwXcTeldNd9a7suJVEq+n/+sSWOtZFRxkvvXDjezmU0mHGC4o+Pp45L6rud1273pWDZDsaTJwFYplxFpiv1yXduIScPMbjCzeV1uqconmtmqwM+AT7j70uTps4DXAdsCi4Bv9Fo+fbGkofYfxTIidbcpsEWuaxxxNHJ3f0evaWb2qJmt4+6Lktqsi3vMN46QMH7k7j/vWPejHfOcA1yRJvh09gdOKW71IpWUbysDsu+eTAc+kDz+APCLoTOYmQHfB+529/8YMq3zAv8DgXkZ4xnGFPI8gixSD/m3sLMmja8Be5rZ/cCeyd+Y2bpmNngmZGfgcODtXU6tnmZmc81sDrA78MmM8QzDgHcVt3qRylmDIk4CZCqW5O6PA3t0eX4hoaIa7v4ruhd6xt0Pz/L66e0HnFvuS4pEsw+hcGG+WtAjtNOehCJKIm1QzMH/liWNVwI9j+uKNMh4YO9C1tyypAFwUOwARErwDuDVhay5hUnjYKBnHzKRhjiqsDW3MGm8Evhg7CBECrQRRZ4pbGHSADiGHid0RBpgKkV+tVuaNDZFB0SlmcYDRxb6Ci1NGgD/HDsAkQIcxAjXjWbW4qSxH7BB7CBEclb8j2GLk8ZYwr6fSFNsTRljx7Q4aQB8BBgXOwiRnBxTyqu0PGmsBRwaOwiRHEwE/qmUV2p50gA4mXDEWaTOPk9ZpTqUNJgMHB07CJEMNqKsXRNQ0kh8ARVUkvo6GVi5tFcrvO5JMt/DyWA7s8xsRtrlizcJOD7OS4tkshVhjKvylFH3ZNDuSW2TzlJPaZYv2PGE5CFSJ6dQ9g5D4XVPCl4+RxMIB5NE6mJnihg4eCRl1T1x4Dozm2lmnT2q+q6bkq3uSb+OIRwYFamDr0V51RHHCDWzG+g+jHean+Wd3X2hmb0WuN7M7nH3W1Isj7tPA6YBDAwMeJpl+zce+DJl7yOKpPcuYlUOLKXuSTLQMO6+2MwuJdQTuAXoa/lyHQb8F/DL2IGI9LAq8O1or15G3ZNVzGzC4GNgL5bXNxlx+fINlmnRKVipqtOIuRtdRt2TtYBfmdls4H+BK939muGWj28y4R8jUjVvJ3ZnRHMv6PBAgQYGBnzGjBkjz5iJEwbq0W6KVMWqwFzKaGWY2cwh3SNeoh6hPWk3Raom7m7JICWNYU0Gvh47CBGqsFsySEljREfRpfKkSIlWJbR6qzEYtpLGiAZ3UybEDkRaqxq7JYOUNPqyEXA+Vcn00iaHUuZl7/1Q0ujbe4AvxQ5CWmV7Qiu3WpQ0UjkR1YKVcqwNXEaoCFgtShqpGOFi3G1iByKNtjJwKbB+7EC6UtJIbRVCb3eNvSFFORvYMXYQPSlpjMpGwM9Q+QPJ3yepeoFyJY1RexvwndhBSKPsRR06EyppZDKV8MsgktUbgf8mVP6rNiWNzL5BqNQmMlqbEYbIXT1yHP1R0sjMCAeujogdiNTSJoQrqdeKHUjflDRyMQY4D3hf7ECkVjYgJIz1YgeSipJGbsYCP0S1YaU/k4GbCWfi6qXwYklmtnlSJGnwttTMPpFMO8nMHumYtm+WeOJbiZA4Phg5Dqm21xOGyN04diCjUnixJHe/NymStC2hM/2zhO5ug745ON3drxq6fP0M7qocFTsQqaQtCAljg9iBjFrZxZL2AB509z9kfN2KGzw4GrFgnFTQm4GbgHUix5FNWcWSBh0CXDTkuePMbI6ZnTdcLddyiiXl7VTC7sorYgci0R1BOIYx0lek+kZMGmZ2g5nN63I7IM0Lmdl4YH/gJx1PnwW8DtgWWETo9NCVu09z9wF3H5g0qU7XfRxGaI7W6wi55GUscDqhIV5eZfcilVIsKbEPcJe7P9qx7pcem9k5wBX9hV03OwB3AgcCd0SORcqzOnAx8M7IceSr8GJJHQ5lyK5JkmgGHcjyIkoNtA6heapOYO2wOeEHolkJA8oploSZvSqZ/vMhy59mZnPNbA6wO42/kGNlQjP1dOpwjYGM1t6EhLFZ7EAKMeLuyXDc/XG6DNWd1G7dt+PvZ4E1u8zX0krLxwNbEVodFShfKzkZA3wa+CpN7jfZ3C2rvHcC81HX86bYHPgV4YxZs79Wzd66yptIOFD2U5pwKq6dxhBajrOAneKGUhIljUo4CLU66miwdXE6beqLo6RRGWp11Ef7WhedlDQqR62OatsMuJW2tS46KWlU0mCr4yaqPCp1u7wWOAOYC7wlcixxKWlU2q7AbYSLgreIHEtbTQBOBh4EPgqMjxtOBShp1MK7Cb9w51HnS6rrZWXgE8BDhMp6q0aNpkqUNGpjLPAh4D7C/vQKfeUkF2MIV0TcC3yTsKsonZQ0aucVhCP3DwInEWp+SnbjCZdHzQbOp47D8JVFSaO2ViNUsf8joV7GrnHDqa2NgFOAPwE/JnTvl+EoadTeOOBgwpmW+cCxwKtjBlQDRriobDrhmMVnUd+Y/ilpNMqWhFKRjxDGN9o6bjiVsybwr8D9wNXAfugrkF6mq1ylqlYFjk5udxKGOZlOOAPTNpOAfyAMGrcPbe2QlScljcbbIbl9BXiYkDymE4YgfD5eWIXagpAk9id0jlNrIk9KGq0yGfhYcltCaKJfntw/GS+szFYCdmZ5onh93HAaLlPSMLP3Es77bQFMcfcZPebbG/hPQmeDc919cISvNQiH/icTfgYPdvc6f3prZDXC4PCHAC8S+n/M7Lj9FngqWnS9jSV83AYIZXS2B7YBXhUzqFbJ2tKYB7wH+F6vGcxsLPBdwnB/C4A7zWy6u/+O5cWWvmZmJyR/fyZjTJLaGOANye2w5LluieQe4DHAS4prAuH3ZHuUIKoj63B/dwOY2XCzTQEecPeHknkvJhRZ+l1yv1sy3wWE84ZKGpXQLZFAOA7yKLCQUHVi6P0i4Blg2ZDbGMLHbVxyP55wmnNdwqDL3e5XKXD7ZLTKOKaxHqHnzKAFhFJTMKTYkpn1PFluZlOBqQAbbrhhQaHKyMYB6yc3aaMRk4aZ3UD3vsqfd/fhSha8tIouz6Vu37r7NGAawMDAQFntYxEZIlOxpD4t4OWXZq5PaMsCpCm2JCIVUMYJ7DuBTc1s46Q04yGEjgKQrtiSiFRApqRhZgea2QLCQIlXmtm1yfMvFUty92XAccC1wN3AJe4+P1lF12JLIlJd5l6/wwMDAwM+Y0bXLiEikgMzm+nuA92mqX+tiKSipCEiqShpiEgqShoikkotD4Sa2WPAH/qYdSLwl4LDKVoTtgGasR1N2Abobzs2cvdJ3SbUMmn0y8xm9DoCXBdN2AZoxnY0YRsg+3Zo90REUlHSEJFUmp40psUOIAdN2AZoxnY0YRsg43Y0+piGiOSv6S0NEcmZkoaIpNKopGFm7zWz+Wb2opn1PKVkZnub2b1m9kAyNmllmNkaZna9md2f3L+mx3wPm9lcM5tlZpW4em+k99WCM5Lpc8xsuxhxjqSP7djNzJYk7/0sMzsxRpzDMbPzzGyxmc3rMX30/wt3b8yNMEz15oSxRgd6zDOWUD15E8JAlbOBLWPH3hHfacAJyeMTgH/vMd/DwMTY8aZ5X4F9CfUSjFCQ5I7YcY9yO3YDrogd6wjbsQuwHTCvx/RR/y8a1dJw97vd/d4RZntpoGN3fw4YHOi4Kg4gDLJMcv/ueKGk0s/7egBwoQe3A6snI7ZVSdU/H31x91uAJ4aZZdT/i0YljT51G+h4vUixdPOywZbpXZnYgevMbGYy6HJs/byvVX/vof8YdzKz2WZ2tZm9sZzQcjXq/0XtKqxVZaDjLIbbhhSr2dndFyYjuF9vZvckvy6x9PO+Rn/v+9BPjHcRrs142sz2BS4DNi06sJyN+n9Ru6ThxQ50XIrhtsHM+hps2d0XJveLzexSQrM6ZtLo532N/t73YcQY3X1px+OrzOxMM5vo7nW6mG3U/4s27p4MN9BxFYw42LKZrWJmEwYfA3sRqt3F1M/7Oh04IjlyvyOwZHBXrEJG3A4zW9uSCmFmNoXwPXq89EizGf3/IvZR3pyPGB9IyKB/J5QBuzZ5fl3gqiFHju8jHCX/fOy4h2zDmsCNwP3J/RpDt4FwZH92cptflW3o9r4CRwNHJ4+NUKLzQWAuPc5wxb71sR3HJe/7bOB24C2xY+6yDRcRyt09n3wnPpzX/0LdyEUklTbunohIBkoaIpKKkoaIpKKkISKpKGmISCpKGiKSipKGiKTy/3oapbuVN8vEAAAAAElFTkSuQmCC\n",
    "\n",
    "RedCircle.drawCircle()"
   ]
  },
  {
   "cell_type": "markdown",
   "metadata": {},
   "source": [
    "Podemos incrementar el radio del circulo utilizando el metodo <code>add_radius()</code>. Incrementémoslo a 2 y después a 5:\n"
   ]
  },
  {
   "cell_type": "code",
   "execution_count": 14,
   "metadata": {},
   "outputs": [
    {
     "name": "stdout",
     "output_type": "stream",
     "text": [
      "Radius of object: 1\n",
      "Radius of object of after applying the method add_radius(2): 3\n",
      "Radius of object of after applying the method add_radius(5): 8\n"
     ]
    }
   ],
   "source": [
    "# Usar el método para modificar el atributo radius\n",
    "\n",
    "print('Radius of object:',RedCircle.radius)\n",
    "RedCircle.add_radius(2)\n",
    "print('Radius of object of after applying the method add_radius(2):',RedCircle.radius)\n",
    "RedCircle.add_radius(5)\n",
    "print('Radius of object of after applying the method add_radius(5):',RedCircle.radius)"
   ]
  },
  {
   "cell_type": "markdown",
   "metadata": {},
   "source": [
    "Vamos a crear un circulo azul. Su color por defecto será azul (blue), solo debemos especificar el valor que queremos darle al radio:\n"
   ]
  },
  {
   "cell_type": "code",
   "execution_count": 16,
   "metadata": {},
   "outputs": [],
   "source": [
    "# Crear un círculo azul con un radio especifico\n",
    "\n",
    "BlueCircle = Circle(radius=100)"
   ]
  },
  {
   "cell_type": "markdown",
   "metadata": {},
   "source": [
    "Al igual que antes, también podemos acceder los atributos de una instancia al usar el punto ( . ):\n"
   ]
  },
  {
   "cell_type": "code",
   "execution_count": 17,
   "metadata": {},
   "outputs": [
    {
     "data": {
      "text/plain": [
       "100"
      ]
     },
     "execution_count": 17,
     "metadata": {},
     "output_type": "execute_result"
    }
   ],
   "source": [
    "# Imprimir el atributo radius del objeto\n",
    "\n",
    "BlueCircle.radius"
   ]
  },
  {
   "cell_type": "code",
   "execution_count": 18,
   "metadata": {},
   "outputs": [
    {
     "data": {
      "text/plain": [
       "'blue'"
      ]
     },
     "execution_count": 18,
     "metadata": {},
     "output_type": "execute_result"
    }
   ],
   "source": [
    "# Imprimir el atributo color del objeto\n",
    "\n",
    "BlueCircle.color"
   ]
  },
  {
   "cell_type": "markdown",
   "metadata": {},
   "source": [
    "Podemos dibujar el objeto utilizando el método <code>drawCircle()</code>:\n"
   ]
  },
  {
   "cell_type": "code",
   "execution_count": 19,
   "metadata": {},
   "outputs": [
    {
     "data": {
      "image/png": "[encoded data removed]",
      "text/plain": [
       "<Figure size 432x288 with 1 Axes>"
      ]
     },
     "metadata": {
      "needs_background": "light"
     },
     "output_type": "display_data"
    }
   ],
   "source": [
    "# Llamada al método drawCircle\n",
    "\n",
    "BlueCircle.drawCircle()"
   ]
  },
  {
   "cell_type": "markdown",
   "metadata": {},
   "source": [
    "Compara el eje “x” y “y” de la figura <code>RedCircle</code>; veras que son distintos.\n"
   ]
  },
  {
   "cell_type": "markdown",
   "metadata": {},
   "source": [
    "<hr>\n"
   ]
  },
  {
   "cell_type": "markdown",
   "metadata": {},
   "source": [
    "<h2 id=\"rect\">La Clase Rectángulo</h2>\n"
   ]
  },
  {
   "cell_type": "markdown",
   "metadata": {},
   "source": [
    "Vamos a crear una clase rectángulo con los atributos height (altura) y color. Solo añadiremos el método para dibujar un rectángulo:\n"
   ]
  },
  {
   "cell_type": "code",
   "execution_count": 20,
   "metadata": {
    "tags": []
   },
   "outputs": [],
   "source": [
    "# Crear una nueva clase Rectangle para construir un objeto rectangulo\n",
    "\n",
    "class Rectangle(object):\n",
    "    \n",
    "    # Constructor\n",
    "    def __init__(self, width=2, height=3, color='r'):\n",
    "        self.height = height \n",
    "        self.width = width\n",
    "        self.color = color\n",
    "    \n",
    "    # Method\n",
    "    def drawRectangle(self):\n",
    "        plt.gca().add_patch(plt.Rectangle((0, 0), self.width, self.height ,fc=self.color))\n",
    "        plt.axis('scaled')\n",
    "        plt.show()"
   ]
  },
  {
   "cell_type": "markdown",
   "metadata": {},
   "source": [
    "Creamos el objeto <code>SkinnyBlueRectangle</code> de tipo Rectangle. Su anchura (width) será de 2 y la altura (height) de 3, será de color azul:\n"
   ]
  },
  {
   "cell_type": "code",
   "execution_count": 21,
   "metadata": {},
   "outputs": [],
   "source": [
    "# Crear un nuevo objeto rectangle\n",
    "\n",
    "SkinnyBlueRectangle = Rectangle(2, 10, 'blue')"
   ]
  },
  {
   "cell_type": "markdown",
   "metadata": {},
   "source": [
    "Al igual que antes, también podemos acceder los atributos de una instancia al usar el punto ( . ):\n"
   ]
  },
  {
   "cell_type": "code",
   "execution_count": 22,
   "metadata": {},
   "outputs": [
    {
     "data": {
      "text/plain": [
       "10"
      ]
     },
     "execution_count": 22,
     "metadata": {},
     "output_type": "execute_result"
    }
   ],
   "source": [
    "# Imprimir el atributo height (altura en inglés) del objeto\n",
    "\n",
    "SkinnyBlueRectangle.height "
   ]
  },
  {
   "cell_type": "code",
   "execution_count": 23,
   "metadata": {},
   "outputs": [
    {
     "data": {
      "text/plain": [
       "2"
      ]
     },
     "execution_count": 23,
     "metadata": {},
     "output_type": "execute_result"
    }
   ],
   "source": [
    "# Imprimir el atributo width (anchura en inglés) del objeto\n",
    "\n",
    "SkinnyBlueRectangle.width"
   ]
  },
  {
   "cell_type": "code",
   "execution_count": 24,
   "metadata": {},
   "outputs": [
    {
     "data": {
      "text/plain": [
       "'blue'"
      ]
     },
     "execution_count": 24,
     "metadata": {},
     "output_type": "execute_result"
    }
   ],
   "source": [
    "# Imprimir el atributo color del objeto\n",
    "\n",
    "SkinnyBlueRectangle.color"
   ]
  },
  {
   "cell_type": "markdown",
   "metadata": {},
   "source": [
    "Podemos dibujar el objeto:\n"
   ]
  },
  {
   "cell_type": "code",
   "execution_count": 25,
   "metadata": {
    "scrolled": true
   },
   "outputs": [
    {
     "data": {
      "image/png": "[encoded data removed]",
      "text/plain": [
       "<Figure size 432x288 with 1 Axes>"
      ]
     },
     "metadata": {
      "needs_background": "light"
     },
     "output_type": "display_data"
    }
   ],
   "source": [
    "# Usar el método drawRectangle para dibujar la figura\n",
    "\n",
    "SkinnyBlueRectangle.drawRectangle()"
   ]
  },
  {
   "cell_type": "markdown",
   "metadata": {},
   "source": [
    "Vamos a crear el objeto <code>FatYellowRectangle\\</code del tipo Rectangle:\n"
   ]
  },
  {
   "cell_type": "code",
   "execution_count": 26,
   "metadata": {
    "tags": []
   },
   "outputs": [],
   "source": [
    "# Crear un nuevo objeto rectangle\n",
    "\n",
    "FatYellowRectangle = Rectangle(20, 5, 'yellow')"
   ]
  },
  {
   "cell_type": "markdown",
   "metadata": {},
   "source": [
    "We can access the attributes of the instance of the class by using the dot notation:\n"
   ]
  },
  {
   "cell_type": "code",
   "execution_count": 27,
   "metadata": {},
   "outputs": [
    {
     "data": {
      "text/plain": [
       "5"
      ]
     },
     "execution_count": 27,
     "metadata": {},
     "output_type": "execute_result"
    }
   ],
   "source": [
    "# Imprimir el atributo height (altura en inglés) del objeto\n",
    "\n",
    "FatYellowRectangle.height "
   ]
  },
  {
   "cell_type": "code",
   "execution_count": 28,
   "metadata": {},
   "outputs": [
    {
     "data": {
      "text/plain": [
       "20"
      ]
     },
     "execution_count": 28,
     "metadata": {},
     "output_type": "execute_result"
    }
   ],
   "source": [
    "# Imprimir el atributo width (anchura en inglés) del objeto\n",
    "\n",
    "FatYellowRectangle.width"
   ]
  },
  {
   "cell_type": "code",
   "execution_count": 29,
   "metadata": {},
   "outputs": [
    {
     "data": {
      "text/plain": [
       "'yellow'"
      ]
     },
     "execution_count": 29,
     "metadata": {},
     "output_type": "execute_result"
    }
   ],
   "source": [
    "# Imprimir el atributo color del objeto\n",
    "\n",
    "FatYellowRectangle.color"
   ]
  },
  {
   "cell_type": "markdown",
   "metadata": {},
   "source": [
    "Podemos dibujar el objeto:\n"
   ]
  },
  {
   "cell_type": "code",
   "execution_count": 30,
   "metadata": {},
   "outputs": [
    {
     "data": {
      "image/png": "[encoded data removed]",
      "text/plain": [
       "<Figure size 432x288 with 1 Axes>"
      ]
     },
     "metadata": {
      "needs_background": "light"
     },
     "output_type": "display_data"
    }
   ],
   "source": [
    "# Usar el método drawRectangle para dibujar la figura\n",
    "\n",
    "FatYellowRectangle.drawRectangle()"
   ]
  },
  {
   "cell_type": "markdown",
   "metadata": {},
   "source": [
    "<hr>\n",
    "<h2>¡El último ejercicio!</h2>\n",
    "<p>Felicidades, has completado tu primera lección y practica de laboratorio en Python. Sin embargo, hay algo mas que debes saber. La comunidad en Ciencia de Datos te alienta a compartir tu trabajo. La mejor forma de hacerlo es a través de GitHub. Al compartir tus cuadernos en GitHub, además de construir una reputación entre la comunidad de los científicos de datos, también te ayudará en el proceso de encontrar un trabajo. Incluso si este fuera tu primer material de trabajo, nunca es tarde para fomentar buenos hábitos. Por favor lee y analiza <a href=\"https://cognitiveclass.ai/blog/data-scientists-stand-out-by-sharing-your-notebooks/?utm_medium=Exinfluencer&utm_source=Exinfluencer&utm_content=000026UJ&utm_term=10006555&utm_id=NA-SkillsNetwork-Channel-SkillsNetworkCoursesIBMPY0101ESedX19802589-2021-01-01\" target=\"_blank\">este artículo</a> para aprender a compartir tu trabajo.\n",
    "<hr>\n"
   ]
  },
  {
   "cell_type": "markdown",
   "metadata": {},
   "source": [
    "<div class=\"alert alert-block alert-info\" style=\"margin-top: 20px\">\n",
    "<h2>¡Obtén gratis IBM Watson Studio!</h2>\n",
    "    <p><a href=\"https://cocl.us/PY0101EN_edx_add_bbottom?utm_medium=Exinfluencer&utm_source=Exinfluencer&utm_content=000026UJ&utm_term=10006555&utm_id=NA-SkillsNetwork-Channel-SkillsNetworkCoursesIBMPY0101ESedX19802589-2021-01-01\"><img src=\"https://s3-api.us-geo.objectstorage.softlayer.net/cf-courses-data/CognitiveClass/PY0101EN/Ad/BottomAd.png\" width=\"750\" align=\"center\"></a></p>\n",
    "</div>\n"
   ]
  },
  {
   "cell_type": "markdown",
   "metadata": {},
   "source": [
    "<h3>Acerca de los Autores:</h3>  \n",
    "<p><a href=\"https://www.linkedin.com/in/joseph-s-50398b136/?utm_medium=Exinfluencer&utm_source=Exinfluencer&utm_content=000026UJ&utm_term=10006555&utm_id=NA-SkillsNetwork-Channel-SkillsNetworkCoursesIBMPY0101ESedX19802589-2021-01-01\" target=\"_blank\">Joseph Santarcangelo</a> es un Científico de Datos en IBM, además posee un doctorado en Ingeniería Eléctrica. Su trabajo de investigación se centra en el uso de Aprendizaje Automático (Machine Learning), Procesamiento de Señales y Visión Artificial para determinar el impacto de los videos en el proceso cognitivo. Joseph trabaja en IBM desde la terminación de su doctorado.</p>\n"
   ]
  },
  {
   "cell_type": "markdown",
   "metadata": {},
   "source": [
    "Otros colaboradores: <a href=\"https://www.linkedin.com/in/jiahui-mavis-zhou-a4537814a?utm_medium=Exinfluencer&utm_source=Exinfluencer&utm_content=000026UJ&utm_term=10006555&utm_id=NA-SkillsNetwork-Channel-SkillsNetworkCoursesIBMPY0101ESedX19802589-2021-01-01\">Mavis Zhou</a>\n"
   ]
  },
  {
   "cell_type": "markdown",
   "metadata": {},
   "source": [
    "<hr>\n"
   ]
  },
  {
   "cell_type": "markdown",
   "metadata": {},
   "source": [
    "<p>Copyright &copy; 2018 IBM Developer Skills Network. This notebook and its source code are released under the terms of the <a href=\"https://cognitiveclass.ai/mit-license/?utm_medium=Exinfluencer&utm_source=Exinfluencer&utm_content=000026UJ&utm_term=10006555&utm_id=NA-SkillsNetwork-Channel-SkillsNetworkCoursesIBMPY0101ESedX19802589-2021-01-01\">MIT License</a>.</p>\n"
   ]
  }
 ],
 "metadata": {
  "kernelspec": {
   "display_name": "Python",
   "language": "python",
   "name": "conda-env-python-py"
  },
  "language_info": {
   "codemirror_mode": {
    "name": "ipython",
    "version": 3
   },
   "file_extension": ".py",
   "mimetype": "text/x-python",
   "name": "python",
   "nbconvert_exporter": "python",
   "pygments_lexer": "ipython3",
   "version": "3.7.10"
  }
 },
 "nbformat": 4,
 "nbformat_minor": 4
}
